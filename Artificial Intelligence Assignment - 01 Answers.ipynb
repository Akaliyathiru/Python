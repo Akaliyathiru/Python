{
 "cells": [
  {
   "cell_type": "code",
   "execution_count": 1,
   "id": "111aa06d-027b-440b-8466-299d532e3136",
   "metadata": {},
   "outputs": [
    {
     "name": "stdout",
     "output_type": "stream",
     "text": [
      "Welcome to Assignment-1\n"
     ]
    }
   ],
   "source": [
    "print(\"Welcome to Assignment-1\")"
   ]
  },
  {
   "cell_type": "code",
   "execution_count": 3,
   "id": "f755ff02-f5f2-4350-964e-4063b7064381",
   "metadata": {},
   "outputs": [
    {
     "name": "stdout",
     "output_type": "stream",
     "text": [
      "Num1= 10\n",
      "Num2= 30\n",
      "Add= 40\n"
     ]
    }
   ],
   "source": [
    "Num1=10\n",
    "print(\"Num1=\",Num1)\n",
    "Num2=30\n",
    "print(\"Num2=\",Num2)\n",
    "Add=Num1+Num2\n",
    "print(\"Add=\",Add)"
   ]
  },
  {
   "cell_type": "code",
   "execution_count": 1,
   "id": "cf645a29-3dc3-4c02-84d7-ff1a6ed5a302",
   "metadata": {},
   "outputs": [
    {
     "name": "stdin",
     "output_type": "stream",
     "text": [
      "Enter the BMI Index: 18\n"
     ]
    },
    {
     "name": "stdout",
     "output_type": "stream",
     "text": [
      "Under weight\n"
     ]
    }
   ],
   "source": [
    "BMI=int (input(\"Enter the BMI Index:\"))\n",
    "if(BMI<18.5):\n",
    "    print(\"Under weight\")\n",
    "elif(BMI>=18.5 and BMI<24.9):\n",
    "    print(\"Healthy weight\")\n",
    "elif(BMI>25 and BMI<29.9):\n",
    "    print(\"Over weight\")\n",
    "elif(BMI>30 and BMI<=40):\n",
    "    print(\"Obese\")\n",
    "else:\n",
    "    print(\"Severe obese\")"
   ]
  },
  {
   "cell_type": "code",
   "execution_count": null,
   "id": "166c2ac3-b798-4006-86a6-a215a7d5b8a5",
   "metadata": {},
   "outputs": [],
   "source": []
  }
 ],
 "metadata": {
  "kernelspec": {
   "display_name": "Python [conda env:base] *",
   "language": "python",
   "name": "conda-base-py"
  },
  "language_info": {
   "codemirror_mode": {
    "name": "ipython",
    "version": 3
   },
   "file_extension": ".py",
   "mimetype": "text/x-python",
   "name": "python",
   "nbconvert_exporter": "python",
   "pygments_lexer": "ipython3",
   "version": "3.12.7"
  }
 },
 "nbformat": 4,
 "nbformat_minor": 5
}
