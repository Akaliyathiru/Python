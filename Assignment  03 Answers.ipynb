{
 "cells": [
  {
   "cell_type": "code",
   "execution_count": 15,
   "id": "95154d78-2322-4ed0-b827-10c61a8e8105",
   "metadata": {},
   "outputs": [
    {
     "name": "stdout",
     "output_type": "stream",
     "text": [
      "0\n",
      "1\n",
      "2\n",
      "3\n",
      "4\n",
      "5\n",
      "6\n",
      "7\n",
      "8\n",
      "9\n",
      "10\n",
      "11\n",
      "12\n",
      "13\n",
      "14\n",
      "15\n",
      "16\n",
      "17\n",
      "18\n",
      "19\n"
     ]
    }
   ],
   "source": [
    "for i in range(20):\n",
    "     print(i)"
   ]
  },
  {
   "cell_type": "code",
   "execution_count": 29,
   "id": "32ad2380-79c1-4a57-91c5-4a40dd1a958b",
   "metadata": {},
   "outputs": [
    {
     "name": "stdout",
     "output_type": "stream",
     "text": [
      "10 11 12 13 14 15 16 17 18 19 "
     ]
    }
   ],
   "source": [
    "for i in range(10,20):\n",
    "    print(i,end=\" \")\n",
    "     "
   ]
  },
  {
   "cell_type": "code",
   "execution_count": 31,
   "id": "2083e8ab-5965-4408-89a0-01b4a2dcda6e",
   "metadata": {},
   "outputs": [
    {
     "name": "stdout",
     "output_type": "stream",
     "text": [
      "Number of item in the List2: 7\n"
     ]
    }
   ],
   "source": [
    "list=[10,20,14,55,43,87,76]\n",
    "total_inputs=len(list)\n",
    "print(\"Number of item in the List2:\",total_inputs)"
   ]
  },
  {
   "cell_type": "code",
   "execution_count": 33,
   "id": "6b181680-61ea-47e7-81d2-736403a06f5e",
   "metadata": {},
   "outputs": [
    {
     "name": "stdout",
     "output_type": "stream",
     "text": [
      "Artificial Intelligence\n",
      "A\n",
      "r\n",
      "t\n",
      "i\n",
      "f\n",
      "i\n",
      "c\n",
      "i\n",
      "a\n",
      "l\n",
      " \n",
      "I\n",
      "n\n",
      "t\n",
      "e\n",
      "l\n",
      "l\n",
      "i\n",
      "g\n",
      "e\n",
      "n\n",
      "c\n",
      "e\n"
     ]
    }
   ],
   "source": [
    "C_Name=(\"Artificial Intelligence\")\n",
    "print(\"Artificial Intelligence\")\n",
    "for char in C_Name:\n",
    "    print(char)"
   ]
  },
  {
   "cell_type": "code",
   "execution_count": 37,
   "id": "523ce48b-cb1d-41a6-b8f9-d2b8b05d065f",
   "metadata": {},
   "outputs": [
    {
     "name": "stdin",
     "output_type": "stream",
     "text": [
      "Your Name: Akaliya\n",
      "Your Age: 25\n",
      "Your Profession: Student\n"
     ]
    }
   ],
   "source": [
    "name=input(\"Your Name:\")\n",
    "age=int(input(\"Your Age:\"))\n",
    "profession=input(\"Your Profession:\")\n"
   ]
  },
  {
   "cell_type": "code",
   "execution_count": 43,
   "id": "324ab20b-a390-4c5c-9272-caf85b3b935b",
   "metadata": {},
   "outputs": [
    {
     "name": "stdout",
     "output_type": "stream",
     "text": [
      "(1, 'Welcome', 2, 'marstech')\n"
     ]
    }
   ],
   "source": [
    "my_tuple=(1,'Welcome',2,'marstech')\n",
    "print(my_tuple)"
   ]
  },
  {
   "cell_type": "code",
   "execution_count": 51,
   "id": "19847f82-83f5-46b9-a31a-2e8211eba75e",
   "metadata": {},
   "outputs": [
    {
     "name": "stdout",
     "output_type": "stream",
     "text": [
      "((0, 1, 2, 3), ('python', 'marstech'))\n"
     ]
    }
   ],
   "source": [
    "Tuple1=(0,1,2,3)\n",
    "Tuple2=('python','marstech')\n",
    "print((Tuple1,Tuple2))"
   ]
  },
  {
   "cell_type": "code",
   "execution_count": 72,
   "id": "69a4fc2f-0f04-4172-a67e-8f5cd2b48b93",
   "metadata": {},
   "outputs": [
    {
     "name": "stdout",
     "output_type": "stream",
     "text": [
      "19 is odd\n",
      "25 is odd\n",
      "1 is odd\n"
     ]
    }
   ],
   "source": [
    "Num1=[20,10,16,19,25,1,276,188]\n",
    "for i in Num:\n",
    "    if i%2!=0:\n",
    "        print(i, \"is odd\")\n",
    "        "
   ]
  },
  {
   "cell_type": "code",
   "execution_count": 76,
   "id": "5da8f10e-01d0-42fd-a505-d197a10d59eb",
   "metadata": {},
   "outputs": [
    {
     "name": "stdout",
     "output_type": "stream",
     "text": [
      "20 is even\n",
      "10 is even\n",
      "16 is even\n",
      "276 is even\n",
      "188 is even\n"
     ]
    }
   ],
   "source": [
    "Num2=[20,10,16,19,25,1,276,188]\n",
    "for i in Num2:\n",
    "    if i%2==0:\n",
    "        print(i, \"is even\")"
   ]
  },
  {
   "cell_type": "code",
   "execution_count": null,
   "id": "4b511474-f5a4-4f84-afb2-f5f00d2bdc6b",
   "metadata": {},
   "outputs": [],
   "source": []
  }
 ],
 "metadata": {
  "kernelspec": {
   "display_name": "Python [conda env:base] *",
   "language": "python",
   "name": "conda-base-py"
  },
  "language_info": {
   "codemirror_mode": {
    "name": "ipython",
    "version": 3
   },
   "file_extension": ".py",
   "mimetype": "text/x-python",
   "name": "python",
   "nbconvert_exporter": "python",
   "pygments_lexer": "ipython3",
   "version": "3.12.7"
  }
 },
 "nbformat": 4,
 "nbformat_minor": 5
}
