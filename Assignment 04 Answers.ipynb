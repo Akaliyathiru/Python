{
 "cells": [
  {
   "cell_type": "code",
   "execution_count": 47,
   "id": "02de45a3-ff00-4b9f-904d-011c72799a81",
   "metadata": {},
   "outputs": [
    {
     "name": "stdin",
     "output_type": "stream",
     "text": [
      "value: 4\n"
     ]
    }
   ],
   "source": [
    "num=int (input(\"value:\"))\n",
    "if num==10:\n",
    "    print(\"Correct\")"
   ]
  },
  {
   "cell_type": "code",
   "execution_count": 35,
   "id": "f775389c-102a-43fa-a975-85086f8de7a1",
   "metadata": {},
   "outputs": [
    {
     "name": "stdin",
     "output_type": "stream",
     "text": [
      "Enter the password: fg\n"
     ]
    },
    {
     "name": "stdout",
     "output_type": "stream",
     "text": [
      "Your password is incorrect\n"
     ]
    }
   ],
   "source": [
    "password=input(\"Enter the password:\")\n",
    "if password=='marstech@123':\n",
    "    print(\"Your password is correct\")\n",
    "else:\n",
    "    print(\"Your password is incorrect\")"
   ]
  },
  {
   "cell_type": "code",
   "execution_count": 25,
   "id": "214146a4-1779-4080-8b59-87923ed27ecc",
   "metadata": {},
   "outputs": [
    {
     "name": "stdin",
     "output_type": "stream",
     "text": [
      "Enter your age: 99\n"
     ]
    },
    {
     "name": "stdout",
     "output_type": "stream",
     "text": [
      "senior citizen\n"
     ]
    }
   ],
   "source": [
    "age=int (input(\"Enter your age:\"))\n",
    "if(age<=18):\n",
    "    print(\"children\")\n",
    "elif(18<age<=35):  \n",
    "    print(\"Adult\")\n",
    "elif(35<age<=45):\n",
    "    print(\"citizen\")\n",
    "else:\n",
    "    print(\"senior citizen\")"
   ]
  },
  {
   "cell_type": "code",
   "execution_count": 33,
   "id": "df7afc1e-58b5-4e57-8c51-92e630353fba",
   "metadata": {},
   "outputs": [
    {
     "name": "stdin",
     "output_type": "stream",
     "text": [
      "Enter any number: -8\n"
     ]
    },
    {
     "name": "stdout",
     "output_type": "stream",
     "text": [
      "Num is negative\n"
     ]
    }
   ],
   "source": [
    "num=int (input(\"Enter any number:\"))\n",
    "if num>=0:\n",
    "    print(\"Num is positive\")\n",
    "else:\n",
    "    print(\"Num is negative\")"
   ]
  },
  {
   "cell_type": "code",
   "execution_count": 5,
   "id": "74a3578b-2e3e-4052-addc-710251d5110d",
   "metadata": {},
   "outputs": [
    {
     "name": "stdin",
     "output_type": "stream",
     "text": [
      "Enter any number: 90\n"
     ]
    },
    {
     "name": "stdout",
     "output_type": "stream",
     "text": [
      "Num is divisible by 5\n"
     ]
    }
   ],
   "source": [
    "num=int (input(\"Enter any number:\"))\n",
    "modulo=num%5\n",
    "if modulo==0:\n",
    "     print(\"Num is divisible by 5\")\n",
    "else:\n",
    "    print(\"Num is not divisible by 5\")"
   ]
  },
  {
   "cell_type": "code",
   "execution_count": null,
   "id": "e59525f7-f016-4bd9-b4d0-f0cd7de5ca46",
   "metadata": {},
   "outputs": [],
   "source": []
  }
 ],
 "metadata": {
  "kernelspec": {
   "display_name": "Python [conda env:base] *",
   "language": "python",
   "name": "conda-base-py"
  },
  "language_info": {
   "codemirror_mode": {
    "name": "ipython",
    "version": 3
   },
   "file_extension": ".py",
   "mimetype": "text/x-python",
   "name": "python",
   "nbconvert_exporter": "python",
   "pygments_lexer": "ipython3",
   "version": "3.12.7"
  }
 },
 "nbformat": 4,
 "nbformat_minor": 5
}
